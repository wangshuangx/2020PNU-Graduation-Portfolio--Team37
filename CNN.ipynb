{
  "nbformat": 4,
  "nbformat_minor": 0,
  "metadata": {
    "colab": {
      "name": "HM_CNN_(3）.ipynb",
      "provenance": [],
      "collapsed_sections": [
        "vme-FPu0-gj_",
        "6mbVmdSR8LVk"
      ],
      "toc_visible": true
    },
    "kernelspec": {
      "name": "python3",
      "display_name": "Python 3"
    },
    "accelerator": "GPU"
  },
  "cells": [
    {
      "cell_type": "code",
      "metadata": {
        "id": "06-KS6UUfaM7",
        "colab_type": "code",
        "colab": {
          "base_uri": "https://localhost:8080/",
          "height": 423
        },
        "outputId": "381dd27b-935e-49ed-a2a5-793fda7d085d"
      },
      "source": [
        "#!pip uninstall tensorflow \n",
        "!pip install tensorflow==1.15.0"
      ],
      "execution_count": 1,
      "outputs": [
        {
          "output_type": "stream",
          "text": [
            "Requirement already satisfied: tensorflow==1.15.0 in /usr/local/lib/python3.6/dist-packages (1.15.0)\n",
            "Requirement already satisfied: opt-einsum>=2.3.2 in /usr/local/lib/python3.6/dist-packages (from tensorflow==1.15.0) (3.3.0)\n",
            "Requirement already satisfied: tensorflow-estimator==1.15.1 in /usr/local/lib/python3.6/dist-packages (from tensorflow==1.15.0) (1.15.1)\n",
            "Requirement already satisfied: keras-applications>=1.0.8 in /usr/local/lib/python3.6/dist-packages (from tensorflow==1.15.0) (1.0.8)\n",
            "Requirement already satisfied: astor>=0.6.0 in /usr/local/lib/python3.6/dist-packages (from tensorflow==1.15.0) (0.8.1)\n",
            "Requirement already satisfied: six>=1.10.0 in /usr/local/lib/python3.6/dist-packages (from tensorflow==1.15.0) (1.15.0)\n",
            "Requirement already satisfied: gast==0.2.2 in /usr/local/lib/python3.6/dist-packages (from tensorflow==1.15.0) (0.2.2)\n",
            "Requirement already satisfied: protobuf>=3.6.1 in /usr/local/lib/python3.6/dist-packages (from tensorflow==1.15.0) (3.12.4)\n",
            "Requirement already satisfied: tensorboard<1.16.0,>=1.15.0 in /usr/local/lib/python3.6/dist-packages (from tensorflow==1.15.0) (1.15.0)\n",
            "Requirement already satisfied: wrapt>=1.11.1 in /usr/local/lib/python3.6/dist-packages (from tensorflow==1.15.0) (1.12.1)\n",
            "Requirement already satisfied: keras-preprocessing>=1.0.5 in /usr/local/lib/python3.6/dist-packages (from tensorflow==1.15.0) (1.1.2)\n",
            "Requirement already satisfied: numpy<2.0,>=1.16.0 in /usr/local/lib/python3.6/dist-packages (from tensorflow==1.15.0) (1.18.5)\n",
            "Requirement already satisfied: termcolor>=1.1.0 in /usr/local/lib/python3.6/dist-packages (from tensorflow==1.15.0) (1.1.0)\n",
            "Requirement already satisfied: grpcio>=1.8.6 in /usr/local/lib/python3.6/dist-packages (from tensorflow==1.15.0) (1.32.0)\n",
            "Requirement already satisfied: wheel>=0.26 in /usr/local/lib/python3.6/dist-packages (from tensorflow==1.15.0) (0.35.1)\n",
            "Requirement already satisfied: google-pasta>=0.1.6 in /usr/local/lib/python3.6/dist-packages (from tensorflow==1.15.0) (0.2.0)\n",
            "Requirement already satisfied: absl-py>=0.7.0 in /usr/local/lib/python3.6/dist-packages (from tensorflow==1.15.0) (0.10.0)\n",
            "Requirement already satisfied: h5py in /usr/local/lib/python3.6/dist-packages (from keras-applications>=1.0.8->tensorflow==1.15.0) (2.10.0)\n",
            "Requirement already satisfied: setuptools in /usr/local/lib/python3.6/dist-packages (from protobuf>=3.6.1->tensorflow==1.15.0) (50.3.0)\n",
            "Requirement already satisfied: markdown>=2.6.8 in /usr/local/lib/python3.6/dist-packages (from tensorboard<1.16.0,>=1.15.0->tensorflow==1.15.0) (3.2.2)\n",
            "Requirement already satisfied: werkzeug>=0.11.15 in /usr/local/lib/python3.6/dist-packages (from tensorboard<1.16.0,>=1.15.0->tensorflow==1.15.0) (1.0.1)\n",
            "Requirement already satisfied: importlib-metadata; python_version < \"3.8\" in /usr/local/lib/python3.6/dist-packages (from markdown>=2.6.8->tensorboard<1.16.0,>=1.15.0->tensorflow==1.15.0) (1.7.0)\n",
            "Requirement already satisfied: zipp>=0.5 in /usr/local/lib/python3.6/dist-packages (from importlib-metadata; python_version < \"3.8\"->markdown>=2.6.8->tensorboard<1.16.0,>=1.15.0->tensorflow==1.15.0) (3.1.0)\n"
          ],
          "name": "stdout"
        }
      ]
    },
    {
      "cell_type": "code",
      "metadata": {
        "id": "GdsnauNK3yff",
        "colab_type": "code",
        "colab": {
          "base_uri": "https://localhost:8080/",
          "height": 34
        },
        "outputId": "10edfa92-c532-42b4-e3c0-8e0a28d8c464"
      },
      "source": [
        "import tensorflow as tf\n",
        "from tensorflow import keras\n",
        "\n",
        "from sklearn.model_selection import train_test_split\n",
        "\n",
        "import numpy as np\n",
        "import matplotlib.pyplot as plt\n",
        "from sklearn.metrics import confusion_matrix\n",
        "\n",
        "print(tf.__version__)"
      ],
      "execution_count": 2,
      "outputs": [
        {
          "output_type": "stream",
          "text": [
            "1.15.0\n"
          ],
          "name": "stdout"
        }
      ]
    },
    {
      "cell_type": "markdown",
      "metadata": {
        "id": "vme-FPu0-gj_",
        "colab_type": "text"
      },
      "source": [
        "# Configuration"
      ]
    },
    {
      "cell_type": "code",
      "metadata": {
        "id": "a7inS3HCWTla",
        "colab_type": "code",
        "colab": {}
      },
      "source": [
        "# Configuration\n",
        "CLASS_NUMBER = 11\n",
        "WINDOW_SIZE = 60\n",
        "TRAIN_TEST_RATIO = 0.2"
      ],
      "execution_count": 89,
      "outputs": []
    },
    {
      "cell_type": "markdown",
      "metadata": {
        "id": "4skD-uLg-nNk",
        "colab_type": "text"
      },
      "source": [
        "# Dataset"
      ]
    },
    {
      "cell_type": "code",
      "metadata": {
        "id": "zca9-DQKW8UP",
        "colab_type": "code",
        "colab": {}
      },
      "source": [
        "class_names = ['washingHand', 'brushingTooth', 'drinking', 'washingFace', 'washingHair', 'running', 'dryingHair','sitting','standing','walking','nothing']"
      ],
      "execution_count": 90,
      "outputs": []
    },
    {
      "cell_type": "code",
      "metadata": {
        "id": "_40PmGDtW8kH",
        "colab_type": "code",
        "colab": {}
      },
      "source": [
        "fileNamesZYX = ['0washingHand0-1.csv',   '0washingHand0-2.csv',  '0washingHand0-3.csv',  '0washingHand0-4.csv',  '0washingHand0-5.csv',\n",
        "            '0brushingTooth1-1.csv', '0brushingTooth1-2.csv','0brushingTooth1-3.csv','0brushingTooth1-4.csv','0brushingTooth1-5.csv',\n",
        "            '0drinking2-1.csv',      '0drinking2-2.csv',     '0drinking2-3.csv',     '0drinking2-4.csv',     '0drinking2-5.csv',\n",
        "            '0washingFace3-1.csv', '0washingFace3-2.csv',  '0washingFace3-3.csv',  '0washingFace3-4.csv',  '0washingFace3-5.csv','0washingFace3-5.csv',\n",
        "            '0washingHair4-1.csv',   '0washingHair4-2.csv',  '0washingHair4-3.csv',  '0washingHair4-4.csv',  '0washingHair4-5.csv',\n",
        "            '0running5-1.csv',       '0running5-2.csv',      '0running5-3.csv',      '0running5-4.csv',      '0running5-5.csv',\n",
        "            '0dryingHair6-1.csv',    '0dryingHair6-2.csv',   '0dryingHair6-3.csv',   '0dryingHair6-4.csv',   '0dryingHair6-5.csv',\n",
        "            '0sitting7-1.csv',       '0sitting7-2.csv',      '0sitting7-3.csv',      '0sitting7-4.csv',      '0sitting7-5.csv',\n",
        "            '0standing8-1.csv',      '0standing8-2.csv',     '0standing8-3.csv',     '0standing8-4.csv',     '0standing8-5.csv',\n",
        "            '0walking9-1.csv',       '0walking9-2.csv',      '0walking9-3.csv',      '0walking9-4.csv',      '0walking9-5.csv',\n",
        "            '2nothing1.csv','2nothing2.csv','0nothing10-1.csv','0nothing10-2.csv','0nothing10-3.csv']\n",
        "\n",
        "fileNamesZBS = ['1washingHand0-1.csv', '1washingHand0-2.csv','1washingHand0-3.csv','1washingHand0-4.csv','1washingHand0-5.csv',\n",
        "            '1brushingTooth1-1.csv','1brushingTooth1-2.csv','1brushingTooth1-3.csv','1brushingTooth1-4.csv','1brushingTooth1-5.csv',\n",
        "            '1drinking2-1.csv','1drinking2-2.csv','1drinking2-3.csv','1drinking2-4.csv','1drinking2-5.csv',\n",
        "            '0washingFace3-1.csv', '0washingFace3-2.csv','1washingFace3-3.csv','1washingFace3-4.csv','1washingFace3-5.csv','1washingFace3-6.csv',\n",
        "            '1washingHair4-1.csv','1washingHair4-2.csv','1washingHair4-3.csv','1washingHair4-4.csv','1washingHair4-5.csv',\n",
        "            '1running5-1.csv', '1running5-2.csv','1running5-3.csv','1running5-4.csv','1running5-5.csv',\n",
        "            '1dryingHair6-1.csv','1dryingHair6-2.csv','1dryingHair6-3.csv','1dryingHair6-4.csv','1dryingHair6-5.csv',\n",
        "            '1sitting7-1.csv','1sitting7-2.csv','1sitting7-3.csv','1sitting7-4.csv','1sitting7-5.csv',\n",
        "            '1standing8-1.csv','1standing8-2.csv','1standing8-3.csv','1standing8-4.csv','1standing8-5.csv',\n",
        "            '1walking9-1.csv','1walking9-2.csv','1walking9-3.csv','1walking9-4.csv','1walking9-5.csv',\n",
        "            '2nothing1.csv','2nothing2.csv','1nothing10-1.csv','1nothing10-2.csv','1nothing10-3.csv']\n",
        "\n",
        "fileNamesWSX = ['2washingHand0-1.csv', '2washingHand0-2.csv','2washingHand0-3.csv','2washingHand0-4.csv','2washingHand0-5.csv',\n",
        "            '2brushingTooth1-1.csv','2brushingTooth1-2.csv','2brushingTooth1-3.csv','2brushingTooth1-4.csv','2brushingTooth1-5.csv',\n",
        "            '2drinking2-1.csv','2drinking2-2.csv','2drinking2-3.csv','2drinking2-4.csv','2drinking2-5.csv',\n",
        "            '0washingFace3-1.csv', '0washingFace3-2.csv','2washingFace3-3.csv','2washingFace3-4.csv','2washingFace3-5.csv','2washingFace3-6.csv',\n",
        "            '2washingHair4-1.csv','2washingHair4-2.csv','2washingHair4-3.csv','2washingHair4-4.csv','2washingHair4-5.csv',\n",
        "            '2running5-1.csv', '2running5-2.csv','2running5-3.csv','2running5-4.csv','2running5-5.csv',\n",
        "            '2dryingHair6-1.csv','2dryingHair6-2.csv','2dryingHair6-3.csv','2dryingHair6-4.csv','2dryingHair6-5.csv',\n",
        "            '2sitting7-1.csv','2sitting7-2.csv','2sitting7-3.csv','2sitting7-4.csv','2sitting7-5.csv',\n",
        "            '2standing8-1.csv','2standing8-2.csv','2standing8-3.csv','2standing8-4.csv','2standing8-5.csv',\n",
        "            '2walking9-1.csv','2walking9-2.csv','2walking9-3.csv','2walking9-4.csv','2walking9-5.csv',\n",
        "            '2nothing1.csv','2nothing2.csv','2nothing10-3.csv','1nothing10-2.csv','1nothing10-3.csv']\n"
      ],
      "execution_count": 91,
      "outputs": []
    },
    {
      "cell_type": "code",
      "metadata": {
        "id": "Q4dsBeSp3zLY",
        "colab_type": "code",
        "colab": {}
      },
      "source": [
        "classNumbersZYX = [0,0,0,0,0, 1,1,1,1,1, 2,2,2,2,2, 3,3,3,3,3, 4,4,4,4,4, 5,5,5,5,5,5, 6,6,6,6,6, 7,7,7,7,7,8,8,8,8,8,9,9,9,9,9,10,10,10,10,10]\n",
        "classNumbersZBS = [0,0,0,0,0, 1,1,1,1,1, 2,2,2,2,2, 3,3,3,3,3, 4,4,4,4,4, 5,5,5,5,5,5, 6,6,6,6,6, 7,7,7,7,7,8,8,8,8,8,9,9,9,9,9,10,10,10,10,10]\n",
        "classNumbersWSX = [0,0,0,0,0, 1,1,1,1,1, 2,2,2,2,2, 3,3,3,3,3, 4,4,4,4,4, 5,5,5,5,5,5, 6,6,6,6,6, 7,7,7,7,7,8,8,8,8,8,9,9,9,9,9,10,10,10,10,10]"
      ],
      "execution_count": 92,
      "outputs": []
    },
    {
      "cell_type": "code",
      "metadata": {
        "id": "Qf3i1p2FW9t1",
        "colab_type": "code",
        "colab": {}
      },
      "source": [
        "def my_load_dataset_class(_fileName, _classNum):\n",
        "  csv_data = np.loadtxt(_fileName, delimiter=\",\", dtype=np.float32)\n",
        "  temp_array = []\n",
        "\n",
        "  for i in range(len(csv_data)-WINDOW_SIZE):\n",
        "    temp_array.append(csv_data[i:i+WINDOW_SIZE,:])\n",
        "  temp_X = np.array(temp_array)\n",
        "  \n",
        "  temp_Y = np.full(len(temp_X), _classNum)\n",
        "  #return choice_train_test_split(temp_X, temp_Y)\n",
        "  return train_test_split(temp_X, temp_Y, test_size=TRAIN_TEST_RATIO, shuffle=False, random_state=1004)\n",
        "\n",
        "def my_load_dataset(fileName, classNumber):\n",
        "  trainX, testX, trainY, testY = my_load_dataset_class(fileName[0], 0)\n",
        "  for i in range(len(fileName)):\n",
        "    tempTrainX, tempTestX, tempTrainY, tempTestY = my_load_dataset_class(fileName[i], classNumber[i])\n",
        "    trainX = np.concatenate((trainX,tempTrainX),axis=0)\n",
        "    trainY = np.concatenate((trainY, tempTrainY), axis=0)\n",
        "    testX = np.concatenate((testX, tempTestX), axis=0)\n",
        "    testY = np.concatenate((testY, tempTestY), axis=0)\n",
        "  return trainX, testX, trainY, testY"
      ],
      "execution_count": 93,
      "outputs": []
    },
    {
      "cell_type": "code",
      "metadata": {
        "id": "JznQQx2okRJM",
        "colab_type": "code",
        "colab": {
          "base_uri": "https://localhost:8080/",
          "height": 67
        },
        "outputId": "7d307db5-5cfe-4cfc-9c4c-e9af8727f0ff"
      },
      "source": [
        "# set0: For Simple Neural Network\n",
        "train_images0, test_images0, train_labels0, test_labels0 = my_load_dataset(fileNamesZYX, classNumbersZYX)\n",
        "train_images1, test_images1, train_labels1, test_labels1 = my_load_dataset(fileNamesZBS, classNumbersZBS)\n",
        "train_images2, test_images2, train_labels2, test_labels2 = my_load_dataset(fileNamesWSX, classNumbersWSX)\n",
        "\n",
        "'''\n",
        "# set1: For CNN\n",
        "train_images1 = train_images0[:]\n",
        "test_images1 = test_images0[:]\n",
        "train_labels1 = train_labels0[:]\n",
        "test_labels1 = test_labels0[:]\n",
        "\n",
        "# set2: For LSTM\n",
        "train_images2 = train_images0[:]\n",
        "test_images2 = test_images0[:]\n",
        "train_labels2 = train_labels0[:]\n",
        "test_labels2 = test_labels0[:]\n",
        "'''\n",
        "print(len(train_images0))\n",
        "print(len(train_images1))\n",
        "print(len(train_images2))"
      ],
      "execution_count": 94,
      "outputs": [
        {
          "output_type": "stream",
          "text": [
            "91666\n",
            "90144\n",
            "87461\n"
          ],
          "name": "stdout"
        }
      ]
    },
    {
      "cell_type": "markdown",
      "metadata": {
        "id": "kWjAcUI5fogw",
        "colab_type": "text"
      },
      "source": [
        "三人数据整合"
      ]
    },
    {
      "cell_type": "code",
      "metadata": {
        "id": "doaWKmf4fr-a",
        "colab_type": "code",
        "colab": {}
      },
      "source": [
        "train_images0_1=np.concatenate((train_images0,train_images1),axis=0)\n",
        "train_labels0_1=np.concatenate((train_labels0,train_labels1),axis=0)\n",
        "train_images0_2=np.concatenate((train_images0,train_images2),axis=0)\n",
        "train_labels0_2=np.concatenate((train_labels0,train_labels2),axis=0)\n",
        "train_images1_2=np.concatenate((train_images1,train_images2),axis=0)\n",
        "train_labels1_2=np.concatenate((train_labels1,train_labels2),axis=0)\n"
      ],
      "execution_count": 95,
      "outputs": []
    },
    {
      "cell_type": "code",
      "metadata": {
        "id": "Zx3mpYrODoou",
        "colab_type": "code",
        "colab": {}
      },
      "source": [
        "train_images0_1 = train_images0_1.reshape((len(train_images0_1), WINDOW_SIZE, 6, 1))\n",
        "train_images0_2 = train_images0_2.reshape((len(train_images0_2), WINDOW_SIZE, 6, 1))\n",
        "train_images1_2 = train_images1_2.reshape((len(train_images1_2), WINDOW_SIZE, 6, 1))"
      ],
      "execution_count": 96,
      "outputs": []
    },
    {
      "cell_type": "code",
      "metadata": {
        "id": "uG-NLv5ypswE",
        "colab_type": "code",
        "colab": {}
      },
      "source": [
        "test_images0 = test_images0.reshape((len(test_images0),WINDOW_SIZE,6,1))\n",
        "test_images1 = test_images1.reshape((len(test_images1),WINDOW_SIZE,6,1))\n",
        "test_images2 = test_images2.reshape((len(test_images2),WINDOW_SIZE,6,1))"
      ],
      "execution_count": 97,
      "outputs": []
    },
    {
      "cell_type": "code",
      "metadata": {
        "id": "k2uIy66Vh39Y",
        "colab_type": "code",
        "colab": {
          "base_uri": "https://localhost:8080/",
          "height": 233
        },
        "outputId": "12cc8afc-f24f-40b7-a2b3-00cee011e24e"
      },
      "source": [
        "train_images0_1_2 = np.concatenate((train_images0_1,train_images2),axis=0)\n",
        "train_labels0_1_2 = np.concatenate((train_labels0_1,train_labels2),axis=0)"
      ],
      "execution_count": 362,
      "outputs": [
        {
          "output_type": "error",
          "ename": "ValueError",
          "evalue": "ignored",
          "traceback": [
            "\u001b[0;31m---------------------------------------------------------------------------\u001b[0m",
            "\u001b[0;31mValueError\u001b[0m                                Traceback (most recent call last)",
            "\u001b[0;32m<ipython-input-362-e5c45e760a94>\u001b[0m in \u001b[0;36m<module>\u001b[0;34m()\u001b[0m\n\u001b[0;32m----> 1\u001b[0;31m \u001b[0mtrain_images0_1_2\u001b[0m \u001b[0;34m=\u001b[0m \u001b[0mnp\u001b[0m\u001b[0;34m.\u001b[0m\u001b[0mconcatenate\u001b[0m\u001b[0;34m(\u001b[0m\u001b[0;34m(\u001b[0m\u001b[0mtrain_images0_1\u001b[0m\u001b[0;34m,\u001b[0m\u001b[0mtrain_images2\u001b[0m\u001b[0;34m)\u001b[0m\u001b[0;34m,\u001b[0m\u001b[0maxis\u001b[0m\u001b[0;34m=\u001b[0m\u001b[0;36m0\u001b[0m\u001b[0;34m)\u001b[0m\u001b[0;34m\u001b[0m\u001b[0;34m\u001b[0m\u001b[0m\n\u001b[0m\u001b[1;32m      2\u001b[0m \u001b[0mtrain_labels0_1_2\u001b[0m \u001b[0;34m=\u001b[0m \u001b[0mnp\u001b[0m\u001b[0;34m.\u001b[0m\u001b[0mconcatenate\u001b[0m\u001b[0;34m(\u001b[0m\u001b[0;34m(\u001b[0m\u001b[0mtrain_labels0_1\u001b[0m\u001b[0;34m,\u001b[0m\u001b[0mtrain_labels2\u001b[0m\u001b[0;34m)\u001b[0m\u001b[0;34m,\u001b[0m\u001b[0maxis\u001b[0m\u001b[0;34m=\u001b[0m\u001b[0;36m0\u001b[0m\u001b[0;34m)\u001b[0m\u001b[0;34m\u001b[0m\u001b[0;34m\u001b[0m\u001b[0m\n",
            "\u001b[0;32m<__array_function__ internals>\u001b[0m in \u001b[0;36mconcatenate\u001b[0;34m(*args, **kwargs)\u001b[0m\n",
            "\u001b[0;31mValueError\u001b[0m: all the input arrays must have same number of dimensions, but the array at index 0 has 4 dimension(s) and the array at index 1 has 3 dimension(s)"
          ]
        }
      ]
    },
    {
      "cell_type": "code",
      "metadata": {
        "id": "gjp0CwLbiWtP",
        "colab_type": "code",
        "colab": {}
      },
      "source": [
        "train_images0_1_2 = train_images0_1_2.reshape((len(train_images0_1_2), WINDOW_SIZE, 6, 1))\n"
      ],
      "execution_count": null,
      "outputs": []
    },
    {
      "cell_type": "markdown",
      "metadata": {
        "id": "6mbVmdSR8LVk",
        "colab_type": "text"
      },
      "source": [
        "# SIMPLE NEURAL NETWORK\n",
        "using dataset0 and model0"
      ]
    },
    {
      "cell_type": "code",
      "metadata": {
        "id": "TKmrdjEcL_Rl",
        "colab_type": "code",
        "colab": {}
      },
      "source": [
        "model0 = keras.Sequential([\n",
        "                          keras.layers.Flatten(input_shape=(30, 6)),\n",
        "                          keras.layers.Dense(128, activation='relu'),\n",
        "                          keras.layers.Dense(CLASS_NUMBER, activation='softmax')\n",
        "])"
      ],
      "execution_count": null,
      "outputs": []
    },
    {
      "cell_type": "code",
      "metadata": {
        "id": "Lhft3PUrMOKs",
        "colab_type": "code",
        "colab": {}
      },
      "source": [
        "model0.compile(optimizer='adam',\n",
        "              loss='sparse_categorical_crossentropy',\n",
        "              metrics=['accuracy'])"
      ],
      "execution_count": null,
      "outputs": []
    },
    {
      "cell_type": "code",
      "metadata": {
        "id": "BKB3Fr756478",
        "colab_type": "code",
        "colab": {}
      },
      "source": [
        "model0.summary()"
      ],
      "execution_count": null,
      "outputs": []
    },
    {
      "cell_type": "code",
      "metadata": {
        "id": "zaMHrbFlMP1E",
        "colab_type": "code",
        "colab": {}
      },
      "source": [
        "model0.fit(train_images0, train_labels0, epochs=5)"
      ],
      "execution_count": null,
      "outputs": []
    },
    {
      "cell_type": "code",
      "metadata": {
        "id": "vzsPp_WuMbSd",
        "colab_type": "code",
        "colab": {}
      },
      "source": [
        "test_loss, test_acc = model0.evaluate(test_images0, test_labels0, verbose=2)\n",
        "\n",
        "print('\\nTest Accuracy: ', test_acc)"
      ],
      "execution_count": null,
      "outputs": []
    },
    {
      "cell_type": "code",
      "metadata": {
        "id": "z-m4GVuD72u4",
        "colab_type": "code",
        "colab": {}
      },
      "source": [
        "# Look at confusion matrix\n",
        "import itertools\n",
        "\n",
        "def plot_confusion_matrix(cm, classes, normalize=False, title='Confusion matrix(sample nn)', cmap=plt.cm.Blues):\n",
        "  plt.imshow(cm, interpolation='nearest', cmap=cmap)\n",
        "  plt.title(title)\n",
        "  plt.colorbar()\n",
        "  tick_marks=np.arange(len(classes))\n",
        "  plt.xticks(tick_marks, classes, rotation=45)\n",
        "  plt.yticks(tick_marks, classes)\n",
        "\n",
        "  if normalize:\n",
        "  \tcm = cm.astype('float') / cm.sum(axis=1)[:, np.newaxis]\n",
        "\n",
        "  thresh = cm.max() / 2.\n",
        "  for i, j in itertools.product(range(cm.shape[0]), range(cm.shape[1])):\n",
        "    con_mat_norm = cm.astype('float') / cm.sum(axis=1)[:, np.newaxis]     # 归一化\n",
        "    con_mat_norm = np.around(con_mat_norm, decimals=2)\n",
        "    plt.text(j, i,con_mat_norm[i,j], horizontalalignment=\"center\", color=\"white\" if cm[i, j] > thresh else \"black\")\n",
        "  \t\n",
        "   \n",
        "\n",
        "  plt.tight_layout()\n",
        "  plt.ylabel('True label')\n",
        "  plt.xlabel('Predicted label')\n",
        "\n",
        "# Predict the values from the validation dataset\n",
        "Y_pred = model0.predict(test_images0)\n",
        "# Convert predictions classes to one hot vectors\n",
        "Y_pred_classes = np.argmax(Y_pred, axis = 1)\n",
        "# Convert validation observations to one hot vectors\n",
        "#Y_true = np.argmax(train_images, axis = 1)\n",
        "# compute the confusion matrix\n",
        "confusion_mtx = confusion_matrix(test_labels0, Y_pred_classes)\n",
        "# plot the confusion matrix\n",
        "plot_confusion_matrix(confusion_mtx, classes = range(10))\n",
        "\n"
      ],
      "execution_count": null,
      "outputs": []
    },
    {
      "cell_type": "markdown",
      "metadata": {
        "id": "4hGA6qGr8fw9",
        "colab_type": "text"
      },
      "source": [
        "# Convolutional Neural Network(CNN)\n",
        "using dataset1 and model1"
      ]
    },
    {
      "cell_type": "code",
      "metadata": {
        "id": "xs9PJhVWDwug",
        "colab_type": "code",
        "colab": {}
      },
      "source": [
        "import tensorflow as tf\n",
        "\n",
        "from tensorflow.keras import datasets, layers, models"
      ],
      "execution_count": 98,
      "outputs": []
    },
    {
      "cell_type": "code",
      "metadata": {
        "id": "IxJaNyI7DxWX",
        "colab_type": "code",
        "colab": {}
      },
      "source": [
        "model2 = models.Sequential()\n",
        "model2.add(layers.Conv2D(32, (3, 3), padding='same', activation='relu', input_shape=(WINDOW_SIZE, 6, 1)))\n",
        "model2.add(layers.MaxPooling2D((2, 1)))\n",
        "model2.add(layers.Conv2D(64, (3, 3), padding='same', activation='relu'))\n",
        "model2.add(layers.MaxPooling2D((2, 1)))\n",
        "model2.add(layers.Conv2D(64, (3, 3), padding='same', activation='relu'))\n",
        "model2.add(layers.Flatten())\n",
        "model2.add(layers.Dense(512, activation='relu'))\n",
        "model2.add(layers.Dense(128, activation='relu'))\n",
        "model2.add(layers.Dense(64, activation='relu'))\n",
        "model2.add(layers.Dense(CLASS_NUMBER, activation='softmax'))"
      ],
      "execution_count": 99,
      "outputs": []
    },
    {
      "cell_type": "code",
      "metadata": {
        "id": "aVtuNldFDxfI",
        "colab_type": "code",
        "colab": {
          "base_uri": "https://localhost:8080/",
          "height": 487
        },
        "outputId": "5b9c6494-3439-4310-f951-1a40b593dfc5"
      },
      "source": [
        "model2.summary()"
      ],
      "execution_count": 100,
      "outputs": [
        {
          "output_type": "stream",
          "text": [
            "Model: \"sequential_10\"\n",
            "_________________________________________________________________\n",
            "Layer (type)                 Output Shape              Param #   \n",
            "=================================================================\n",
            "conv2d_30 (Conv2D)           (None, 60, 6, 32)         320       \n",
            "_________________________________________________________________\n",
            "max_pooling2d_20 (MaxPooling (None, 30, 6, 32)         0         \n",
            "_________________________________________________________________\n",
            "conv2d_31 (Conv2D)           (None, 30, 6, 64)         18496     \n",
            "_________________________________________________________________\n",
            "max_pooling2d_21 (MaxPooling (None, 15, 6, 64)         0         \n",
            "_________________________________________________________________\n",
            "conv2d_32 (Conv2D)           (None, 15, 6, 64)         36928     \n",
            "_________________________________________________________________\n",
            "flatten_10 (Flatten)         (None, 5760)              0         \n",
            "_________________________________________________________________\n",
            "dense_40 (Dense)             (None, 512)               2949632   \n",
            "_________________________________________________________________\n",
            "dense_41 (Dense)             (None, 128)               65664     \n",
            "_________________________________________________________________\n",
            "dense_42 (Dense)             (None, 64)                8256      \n",
            "_________________________________________________________________\n",
            "dense_43 (Dense)             (None, 11)                715       \n",
            "=================================================================\n",
            "Total params: 3,080,011\n",
            "Trainable params: 3,080,011\n",
            "Non-trainable params: 0\n",
            "_________________________________________________________________\n"
          ],
          "name": "stdout"
        }
      ]
    },
    {
      "cell_type": "code",
      "metadata": {
        "id": "GQ-9AoCTDxib",
        "colab_type": "code",
        "colab": {}
      },
      "source": [
        "model2.compile(optimizer='adam',\n",
        "              loss='sparse_categorical_crossentropy',\n",
        "              metrics=['accuracy'])"
      ],
      "execution_count": 101,
      "outputs": []
    },
    {
      "cell_type": "code",
      "metadata": {
        "id": "M7kB8sGj98c6",
        "colab_type": "code",
        "colab": {
          "base_uri": "https://localhost:8080/",
          "height": 218
        },
        "outputId": "fd837ea1-ee76-475f-8ee4-55bb5837df7f"
      },
      "source": [
        "model2.fit(train_images0_1, train_labels0_1, epochs=5)"
      ],
      "execution_count": 102,
      "outputs": [
        {
          "output_type": "stream",
          "text": [
            "Train on 181810 samples\n",
            "Epoch 1/5\n",
            "181810/181810 [==============================] - 50s 277us/sample - loss: 0.0891 - acc: 0.9681\n",
            "Epoch 2/5\n",
            "181810/181810 [==============================] - 48s 262us/sample - loss: 0.0312 - acc: 0.9860\n",
            "Epoch 3/5\n",
            "181810/181810 [==============================] - 47s 260us/sample - loss: 0.0400 - acc: 0.9860\n",
            "Epoch 4/5\n",
            "181810/181810 [==============================] - 47s 260us/sample - loss: 0.0317 - acc: 0.9871\n",
            "Epoch 5/5\n",
            "181810/181810 [==============================] - 48s 262us/sample - loss: 0.0274 - acc: 0.9879\n"
          ],
          "name": "stdout"
        },
        {
          "output_type": "execute_result",
          "data": {
            "text/plain": [
              "<tensorflow.python.keras.callbacks.History at 0x7fa618692198>"
            ]
          },
          "metadata": {
            "tags": []
          },
          "execution_count": 102
        }
      ]
    },
    {
      "cell_type": "code",
      "metadata": {
        "id": "8wW7IRFYUnD5",
        "colab_type": "code",
        "colab": {
          "base_uri": "https://localhost:8080/",
          "height": 34
        },
        "outputId": "ab5df0d7-b564-450e-ab97-0e3bdc26fa71"
      },
      "source": [
        "test_loss, test_acc = model2.evaluate(test_images2,  test_labels2, verbose=2)"
      ],
      "execution_count": 70,
      "outputs": [
        {
          "output_type": "stream",
          "text": [
            "21555/21555 - 3s - loss: 24.4650 - acc: 0.5926\n"
          ],
          "name": "stdout"
        }
      ]
    },
    {
      "cell_type": "code",
      "metadata": {
        "id": "JFul-ahHXUhn",
        "colab_type": "code",
        "colab": {
          "base_uri": "https://localhost:8080/",
          "height": 487
        },
        "outputId": "1ce7d7a4-af4a-414a-be25-4eb731c58818"
      },
      "source": [
        "model1 = models.Sequential()\n",
        "model1.add(layers.Conv2D(32, (3, 3), padding='same', activation='relu', input_shape=(WINDOW_SIZE, 6, 1)))\n",
        "model1.add(layers.MaxPooling2D((2, 1)))\n",
        "model1.add(layers.Conv2D(64, (3, 3), padding='same', activation='relu'))\n",
        "model1.add(layers.MaxPooling2D((2, 1)))\n",
        "model1.add(layers.Conv2D(64, (3, 3), padding='same', activation='relu'))\n",
        "model1.add(layers.Flatten())\n",
        "model1.add(layers.Dense(512, activation='relu'))\n",
        "model1.add(layers.Dense(128, activation='relu'))\n",
        "model1.add(layers.Dense(64, activation='relu'))\n",
        "model1.add(layers.Dense(CLASS_NUMBER, activation='softmax'))\n",
        "model1.summary()"
      ],
      "execution_count": 71,
      "outputs": [
        {
          "output_type": "stream",
          "text": [
            "Model: \"sequential_8\"\n",
            "_________________________________________________________________\n",
            "Layer (type)                 Output Shape              Param #   \n",
            "=================================================================\n",
            "conv2d_24 (Conv2D)           (None, 90, 6, 32)         320       \n",
            "_________________________________________________________________\n",
            "max_pooling2d_16 (MaxPooling (None, 45, 6, 32)         0         \n",
            "_________________________________________________________________\n",
            "conv2d_25 (Conv2D)           (None, 45, 6, 64)         18496     \n",
            "_________________________________________________________________\n",
            "max_pooling2d_17 (MaxPooling (None, 22, 6, 64)         0         \n",
            "_________________________________________________________________\n",
            "conv2d_26 (Conv2D)           (None, 22, 6, 64)         36928     \n",
            "_________________________________________________________________\n",
            "flatten_8 (Flatten)          (None, 8448)              0         \n",
            "_________________________________________________________________\n",
            "dense_32 (Dense)             (None, 512)               4325888   \n",
            "_________________________________________________________________\n",
            "dense_33 (Dense)             (None, 128)               65664     \n",
            "_________________________________________________________________\n",
            "dense_34 (Dense)             (None, 64)                8256      \n",
            "_________________________________________________________________\n",
            "dense_35 (Dense)             (None, 11)                715       \n",
            "=================================================================\n",
            "Total params: 4,456,267\n",
            "Trainable params: 4,456,267\n",
            "Non-trainable params: 0\n",
            "_________________________________________________________________\n"
          ],
          "name": "stdout"
        }
      ]
    },
    {
      "cell_type": "code",
      "metadata": {
        "id": "Mz7odzW9Xzk0",
        "colab_type": "code",
        "colab": {}
      },
      "source": [
        "model1.compile(optimizer='adam',\n",
        "              loss='sparse_categorical_crossentropy',\n",
        "              metrics=['accuracy'])"
      ],
      "execution_count": 72,
      "outputs": []
    },
    {
      "cell_type": "code",
      "metadata": {
        "id": "b2LRo0etVqOa",
        "colab_type": "code",
        "colab": {
          "base_uri": "https://localhost:8080/",
          "height": 218
        },
        "outputId": "d54b768a-92a7-46f4-95be-418fed420785"
      },
      "source": [
        "model1.fit(train_images0_2, train_labels0_2, epochs=5)"
      ],
      "execution_count": 74,
      "outputs": [
        {
          "output_type": "stream",
          "text": [
            "Train on 176391 samples\n",
            "Epoch 1/5\n",
            "176391/176391 [==============================] - 53s 303us/sample - loss: 0.0606 - acc: 0.9756\n",
            "Epoch 2/5\n",
            "176391/176391 [==============================] - 53s 301us/sample - loss: 0.0384 - acc: 0.9841\n",
            "Epoch 3/5\n",
            "176391/176391 [==============================] - 53s 301us/sample - loss: 0.0336 - acc: 0.9860\n",
            "Epoch 4/5\n",
            "176391/176391 [==============================] - 53s 301us/sample - loss: 0.0315 - acc: 0.9867\n",
            "Epoch 5/5\n",
            "176391/176391 [==============================] - 53s 300us/sample - loss: 0.0261 - acc: 0.9875\n"
          ],
          "name": "stdout"
        },
        {
          "output_type": "execute_result",
          "data": {
            "text/plain": [
              "<tensorflow.python.keras.callbacks.History at 0x7fa618cff080>"
            ]
          },
          "metadata": {
            "tags": []
          },
          "execution_count": 74
        }
      ]
    },
    {
      "cell_type": "code",
      "metadata": {
        "id": "gxXIb4R8RHxU",
        "colab_type": "code",
        "colab": {
          "base_uri": "https://localhost:8080/",
          "height": 34
        },
        "outputId": "18cb9d04-327e-426e-a093-87b999370433"
      },
      "source": [
        "test_loss, test_acc = model1.evaluate(test_images1,  test_labels1, verbose=2)"
      ],
      "execution_count": 75,
      "outputs": [
        {
          "output_type": "stream",
          "text": [
            "22225/22225 - 3s - loss: 7.4197 - acc: 0.7215\n"
          ],
          "name": "stdout"
        }
      ]
    },
    {
      "cell_type": "code",
      "metadata": {
        "id": "qUdmz9hFUZi5",
        "colab_type": "code",
        "colab": {
          "base_uri": "https://localhost:8080/",
          "height": 487
        },
        "outputId": "c6b97696-e4c7-4606-c58d-c250a7a46d61"
      },
      "source": [
        "model0 = models.Sequential()\n",
        "model0.add(layers.Conv2D(32, (3, 3), padding='same', activation='relu', input_shape=(WINDOW_SIZE, 6, 1)))\n",
        "model0.add(layers.MaxPooling2D((2, 1)))\n",
        "model0.add(layers.Conv2D(64, (3, 3), padding='same', activation='relu'))\n",
        "model0.add(layers.MaxPooling2D((2, 1)))\n",
        "model0.add(layers.Conv2D(64, (3, 3), padding='same', activation='relu'))\n",
        "model0.add(layers.Flatten())\n",
        "model0.add(layers.Dense(512, activation='relu'))\n",
        "model0.add(layers.Dense(128, activation='relu'))\n",
        "model0.add(layers.Dense(64, activation='relu'))\n",
        "model0.add(layers.Dense(CLASS_NUMBER, activation='softmax'))\n",
        "model0.summary()"
      ],
      "execution_count": 76,
      "outputs": [
        {
          "output_type": "stream",
          "text": [
            "Model: \"sequential_9\"\n",
            "_________________________________________________________________\n",
            "Layer (type)                 Output Shape              Param #   \n",
            "=================================================================\n",
            "conv2d_27 (Conv2D)           (None, 90, 6, 32)         320       \n",
            "_________________________________________________________________\n",
            "max_pooling2d_18 (MaxPooling (None, 45, 6, 32)         0         \n",
            "_________________________________________________________________\n",
            "conv2d_28 (Conv2D)           (None, 45, 6, 64)         18496     \n",
            "_________________________________________________________________\n",
            "max_pooling2d_19 (MaxPooling (None, 22, 6, 64)         0         \n",
            "_________________________________________________________________\n",
            "conv2d_29 (Conv2D)           (None, 22, 6, 64)         36928     \n",
            "_________________________________________________________________\n",
            "flatten_9 (Flatten)          (None, 8448)              0         \n",
            "_________________________________________________________________\n",
            "dense_36 (Dense)             (None, 512)               4325888   \n",
            "_________________________________________________________________\n",
            "dense_37 (Dense)             (None, 128)               65664     \n",
            "_________________________________________________________________\n",
            "dense_38 (Dense)             (None, 64)                8256      \n",
            "_________________________________________________________________\n",
            "dense_39 (Dense)             (None, 11)                715       \n",
            "=================================================================\n",
            "Total params: 4,456,267\n",
            "Trainable params: 4,456,267\n",
            "Non-trainable params: 0\n",
            "_________________________________________________________________\n"
          ],
          "name": "stdout"
        }
      ]
    },
    {
      "cell_type": "code",
      "metadata": {
        "id": "J0tCcAk_YRsO",
        "colab_type": "code",
        "colab": {}
      },
      "source": [
        "model0.compile(optimizer='adam',\n",
        "              loss='sparse_categorical_crossentropy',\n",
        "              metrics=['accuracy'])"
      ],
      "execution_count": 77,
      "outputs": []
    },
    {
      "cell_type": "code",
      "metadata": {
        "id": "5tXehVsOYzOj",
        "colab_type": "code",
        "colab": {
          "base_uri": "https://localhost:8080/",
          "height": 286
        },
        "outputId": "80f9ba91-904f-4e3d-e29b-c1b3deec1766"
      },
      "source": [
        "model0.fit(train_images1_2, train_labels1_2, epochs=6)"
      ],
      "execution_count": 87,
      "outputs": [
        {
          "output_type": "stream",
          "text": [
            "Train on 174869 samples\n",
            "Epoch 1/7\n",
            "174869/174869 [==============================] - 53s 303us/sample - loss: 0.1024 - acc: 0.9784\n",
            "Epoch 2/7\n",
            "174869/174869 [==============================] - 53s 301us/sample - loss: 0.1362 - acc: 0.9858\n",
            "Epoch 3/7\n",
            "174869/174869 [==============================] - 53s 302us/sample - loss: 0.0560 - acc: 0.9951\n",
            "Epoch 4/7\n",
            "174869/174869 [==============================] - 53s 302us/sample - loss: 0.0970 - acc: 0.9887\n",
            "Epoch 5/7\n",
            "174869/174869 [==============================] - 53s 302us/sample - loss: 0.0713 - acc: 0.9864\n",
            "Epoch 6/7\n",
            "174869/174869 [==============================] - 53s 304us/sample - loss: 0.0028 - acc: 0.9993\n",
            "Epoch 7/7\n",
            "174869/174869 [==============================] - 53s 302us/sample - loss: 0.1537 - acc: 0.9718\n"
          ],
          "name": "stdout"
        },
        {
          "output_type": "execute_result",
          "data": {
            "text/plain": [
              "<tensorflow.python.keras.callbacks.History at 0x7fa6188e29e8>"
            ]
          },
          "metadata": {
            "tags": []
          },
          "execution_count": 87
        }
      ]
    },
    {
      "cell_type": "code",
      "metadata": {
        "id": "01EWRjC9Dxdc",
        "colab_type": "code",
        "colab": {
          "base_uri": "https://localhost:8080/",
          "height": 34
        },
        "outputId": "1070bab6-e048-4dff-e37f-779ee9a1db89"
      },
      "source": [
        "test_loss, test_acc = model0.evaluate(test_images0,  test_labels0, verbose=2)"
      ],
      "execution_count": 88,
      "outputs": [
        {
          "output_type": "stream",
          "text": [
            "22603/22603 - 3s - loss: 72.6875 - acc: 0.7637\n"
          ],
          "name": "stdout"
        }
      ]
    },
    {
      "cell_type": "code",
      "metadata": {
        "id": "P1H8NINJFE4p",
        "colab_type": "code",
        "colab": {
          "base_uri": "https://localhost:8080/",
          "height": 34
        },
        "outputId": "cd2cc14d-dce6-410f-e4e2-a4250dcba913"
      },
      "source": [
        "print(test_acc)"
      ],
      "execution_count": 50,
      "outputs": [
        {
          "output_type": "stream",
          "text": [
            "0.68023133\n"
          ],
          "name": "stdout"
        }
      ]
    },
    {
      "cell_type": "code",
      "metadata": {
        "id": "VMs6FdhoYyzI",
        "colab_type": "code",
        "colab": {
          "base_uri": "https://localhost:8080/",
          "height": 311
        },
        "outputId": "0688d907-5be7-4578-9bdd-f47351405727"
      },
      "source": [
        "# Look at confusion matrix\n",
        "import itertools\n",
        "\n",
        "def plot_confusion_matrix(cm, classes, normalize=False, title='Confusion matrix(cnn)model0', cmap=plt.cm.Blues):\n",
        "  plt.imshow(cm, interpolation='nearest', cmap=cmap)\n",
        "  plt.title(title)\n",
        "  plt.colorbar()\n",
        "  tick_marks=np.arange(len(classes))\n",
        "  plt.xticks(tick_marks, classes, rotation=45)\n",
        "  plt.yticks(tick_marks, classes)\n",
        "\n",
        "  if normalize:\n",
        "  \tcm = cm.astype('float') / cm.sum(axis=1)[:, np.newaxis]\n",
        "\n",
        "  thresh = cm.max() / 2.\n",
        "  for i, j in itertools.product(range(cm.shape[0]), range(cm.shape[1])):\n",
        "    con_mat_norm = cm.astype('float') / cm.sum(axis=1)[:, np.newaxis]     # 归一化\n",
        "    con_mat_norm = np.around(con_mat_norm, decimals=2)\n",
        "    plt.text(j, i,con_mat_norm[i,j], horizontalalignment=\"center\", color=\"white\" if cm[i, j] > thresh else \"black\")\n",
        "  \t\n",
        "   \n",
        "\n",
        "  plt.tight_layout()\n",
        "  plt.ylabel('True label')\n",
        "  plt.xlabel('Predicted label')\n",
        "\n",
        "# Predict the values from the validation dataset\n",
        "Y_pred = model0.predict(test_images0)\n",
        "# Convert predictions classes to one hot vectors\n",
        "Y_pred_classes = np.argmax(Y_pred, axis = 1)\n",
        "# Convert validation observations to one hot vectors\n",
        "#Y_true = np.argmax(train_images, axis = 1)\n",
        "# compute the confusion matrix\n",
        "confusion_mtx = confusion_matrix(test_labels0, Y_pred_classes)\n",
        "# plot the confusion matrix\n",
        "plot_confusion_matrix(confusion_mtx, classes = range(11))\n",
        "\n",
        "\n"
      ],
      "execution_count": 86,
      "outputs": [
        {
          "output_type": "display_data",
          "data": {
            "image/png": "[encoded data removed]",
            "text/plain": [
              "<Figure size 432x288 with 2 Axes>"
            ]
          },
          "metadata": {
            "tags": [],
            "needs_background": "light"
          }
        }
      ]
    },
    {
      "cell_type": "code",
      "metadata": {
        "id": "EV48cd1QZ4RC",
        "colab_type": "code",
        "colab": {
          "base_uri": "https://localhost:8080/",
          "height": 311
        },
        "outputId": "6da32662-4908-4e3d-f8dc-abd3aa96db18"
      },
      "source": [
        "# Look at confusion matrix\n",
        "import itertools\n",
        "\n",
        "def plot_confusion_matrix(cm, classes, normalize=False, title='Confusion matrix(cnn)model1', cmap=plt.cm.Blues):\n",
        "  plt.imshow(cm, interpolation='nearest', cmap=cmap)\n",
        "  plt.title(title)\n",
        "  plt.colorbar()\n",
        "  tick_marks=np.arange(len(classes))\n",
        "  plt.xticks(tick_marks, classes, rotation=45)\n",
        "  plt.yticks(tick_marks, classes)\n",
        "\n",
        "  if normalize:\n",
        "  \tcm = cm.astype('float') / cm.sum(axis=1)[:, np.newaxis]\n",
        "\n",
        "  thresh = cm.max() / 2.\n",
        "  for i, j in itertools.product(range(cm.shape[0]), range(cm.shape[1])):\n",
        "    con_mat_norm = cm.astype('float') / cm.sum(axis=1)[:, np.newaxis]     # 归一化\n",
        "    con_mat_norm = np.around(con_mat_norm, decimals=2)\n",
        "    plt.text(j, i,con_mat_norm[i,j], horizontalalignment=\"center\", color=\"white\" if cm[i, j] > thresh else \"black\")\n",
        "  \t\n",
        "   \n",
        "\n",
        "  plt.tight_layout()\n",
        "  plt.ylabel('True label')\n",
        "  plt.xlabel('Predicted label')\n",
        "\n",
        "# Predict the values from the validation dataset\n",
        "Y_pred = model1.predict(test_images1)\n",
        "# Convert predictions classes to one hot vectors\n",
        "Y_pred_classes = np.argmax(Y_pred, axis = 1)\n",
        "# Convert validation observations to one hot vectors\n",
        "#Y_true = np.argmax(train_images, axis = 1)\n",
        "# compute the confusion matrix\n",
        "confusion_mtx = confusion_matrix(test_labels1, Y_pred_classes)\n",
        "# plot the confusion matrix\n",
        "plot_confusion_matrix(confusion_mtx, classes = range(11))\n"
      ],
      "execution_count": 53,
      "outputs": [
        {
          "output_type": "display_data",
          "data": {
            "image/png": "[encoded data removed]",
            "text/plain": [
              "<Figure size 432x288 with 2 Axes>"
            ]
          },
          "metadata": {
            "tags": [],
            "needs_background": "light"
          }
        }
      ]
    },
    {
      "cell_type": "code",
      "metadata": {
        "id": "gxCAQaogZ5uN",
        "colab_type": "code",
        "colab": {
          "base_uri": "https://localhost:8080/",
          "height": 311
        },
        "outputId": "06bf882f-667d-4bf2-bc78-89c5c2e2aadc"
      },
      "source": [
        "# Look at confusion matrix\n",
        "import itertools\n",
        "\n",
        "def plot_confusion_matrix(cm, classes, normalize=False, title='Confusion matrix(cnn)model2', cmap=plt.cm.Blues):\n",
        "  plt.imshow(cm, interpolation='nearest', cmap=cmap)\n",
        "  plt.title(title)\n",
        "  plt.colorbar()\n",
        "  tick_marks=np.arange(len(classes))\n",
        "  plt.xticks(tick_marks, classes, rotation=45)\n",
        "  plt.yticks(tick_marks, classes)\n",
        "\n",
        "  if normalize:\n",
        "  \tcm = cm.astype('float') / cm.sum(axis=1)[:, np.newaxis]\n",
        "\n",
        "  thresh = cm.max() / 2.\n",
        "  for i, j in itertools.product(range(cm.shape[0]), range(cm.shape[1])):\n",
        "    con_mat_norm = cm.astype('float') / cm.sum(axis=1)[:, np.newaxis]     # 归一化\n",
        "    con_mat_norm = np.around(con_mat_norm, decimals=2)\n",
        "    plt.text(j, i,con_mat_norm[i,j], horizontalalignment=\"center\", color=\"white\" if cm[i, j] > thresh else \"black\")\n",
        "  \t\n",
        "   \n",
        "\n",
        "  plt.tight_layout()\n",
        "  plt.ylabel('True label')\n",
        "  plt.xlabel('Predicted label')\n",
        "\n",
        "# Predict the values from the validation dataset\n",
        "Y_pred = model2.predict(test_images2)\n",
        "# Convert predictions classes to one hot vectors\n",
        "Y_pred_classes = np.argmax(Y_pred, axis = 1)\n",
        "# Convert validation observations to one hot vectors\n",
        "#Y_true = np.argmax(train_images, axis = 1)\n",
        "# compute the confusion matrix\n",
        "confusion_mtx = confusion_matrix(test_labels2, Y_pred_classes)\n",
        "# plot the confusion matrix\n",
        "plot_confusion_matrix(confusion_mtx, classes = range(11))\n"
      ],
      "execution_count": 54,
      "outputs": [
        {
          "output_type": "display_data",
          "data": {
            "image/png": "[encoded data removed]",
            "text/plain": [
              "<Figure size 432x288 with 2 Axes>"
            ]
          },
          "metadata": {
            "tags": [],
            "needs_background": "light"
          }
        }
      ]
    },
    {
      "cell_type": "markdown",
      "metadata": {
        "id": "fnqvrrFZioZb",
        "colab_type": "text"
      },
      "source": [
        "模型保存"
      ]
    },
    {
      "cell_type": "code",
      "metadata": {
        "id": "FMp3ALGgisll",
        "colab_type": "code",
        "colab": {}
      },
      "source": [
        "!mkdir -p saved_model"
      ],
      "execution_count": null,
      "outputs": []
    },
    {
      "cell_type": "code",
      "metadata": {
        "id": "PtuHY2Vai6iQ",
        "colab_type": "code",
        "colab": {}
      },
      "source": [
        "model1.save('saved_model/my_model') "
      ],
      "execution_count": null,
      "outputs": []
    },
    {
      "cell_type": "markdown",
      "metadata": {
        "id": "n2UX85t_803Z",
        "colab_type": "text"
      },
      "source": [
        "# Long Short Term Memory(LSTM)\n",
        "usind dataset2 and model2"
      ]
    },
    {
      "cell_type": "code",
      "metadata": {
        "id": "ja963JW1sGOV",
        "colab_type": "code",
        "colab": {}
      },
      "source": [
        "model2 = keras.Sequential()\n",
        "\n",
        "model2.add(\n",
        "    layers.Bidirectional(layers.LSTM(64, return_sequences=True), input_shape=(30, 6))\n",
        ")\n",
        "model2.add(layers.Bidirectional(layers.LSTM(32)))\n",
        "model2.add(layers.Dense(10))\n",
        "\n",
        "model2.summary()"
      ],
      "execution_count": null,
      "outputs": []
    },
    {
      "cell_type": "code",
      "metadata": {
        "id": "KQNucbLMsg1j",
        "colab_type": "code",
        "colab": {}
      },
      "source": [
        "batch_size = 64\n",
        "# Each MNIST image batch is a tensor of shape (batch_size, 28, 28).\n",
        "# Each input sequence will be of size (28, 28) (height is treated like time).\n",
        "input_dim = 30\n",
        "\n",
        "units = 64\n",
        "output_size = 10  # labels are from 0 to 9\n",
        "\n",
        "# Build the RNN model\n",
        "def build_model(allow_cudnn_kernel=True):\n",
        "    # CuDNN is only available at the layer level, and not at the cell level.\n",
        "    # This means `LSTM(units)` will use the CuDNN kernel,\n",
        "    # while RNN(LSTMCell(units)) will run on non-CuDNN kernel.\n",
        "    if allow_cudnn_kernel:\n",
        "        # The LSTM layer with default options uses CuDNN.\n",
        "        lstm_layer = keras.layers.LSTM(units, input_shape=(input_dim, 6))\n",
        "    else:\n",
        "        # Wrapping a LSTMCell in a RNN layer will not use CuDNN.\n",
        "        lstm_layer = keras.layers.RNN(\n",
        "            keras.layers.LSTMCell(units), input_shape=(None, input_dim, 6)\n",
        "        )\n",
        "    model = keras.models.Sequential(\n",
        "        [\n",
        "            lstm_layer,\n",
        "            keras.layers.BatchNormalization(),\n",
        "            keras.layers.Dense(output_size),\n",
        "        ]\n",
        "    )\n",
        "    return model\n"
      ],
      "execution_count": null,
      "outputs": []
    },
    {
      "cell_type": "code",
      "metadata": {
        "id": "Fa8ifWF3tlBS",
        "colab_type": "code",
        "colab": {}
      },
      "source": [
        "model2 = build_model(allow_cudnn_kernel=True)\n",
        "\n",
        "model2.compile(\n",
        "    loss=keras.losses.SparseCategoricalCrossentropy(from_logits=True),\n",
        "    optimizer=\"sgd\",\n",
        "    metrics=[\"accuracy\"],\n",
        ")\n",
        "\n",
        "\n",
        "model2.fit(\n",
        "    train_images2, train_labels2, validation_data=(test_images2, test_labels2), batch_size=batch_size, epochs=10\n",
        ")"
      ],
      "execution_count": null,
      "outputs": []
    },
    {
      "cell_type": "code",
      "metadata": {
        "id": "P_a1AwH0ZVib",
        "colab_type": "code",
        "colab": {}
      },
      "source": [
        "# Look at confusion matrix\n",
        "import itertools\n",
        "\n",
        "def plot_confusion_matrix(cm, classes, normalize=False, title='Confusion matrix(sample nn)', cmap=plt.cm.Blues):\n",
        "  plt.imshow(cm, interpolation='nearest', cmap=cmap)\n",
        "  plt.title(title)\n",
        "  plt.colorbar()\n",
        "  tick_marks=np.arange(len(classes))\n",
        "  plt.xticks(tick_marks, classes, rotation=45)\n",
        "  plt.yticks(tick_marks, classes)\n",
        "\n",
        "  if normalize:\n",
        "  \tcm = cm.astype('float') / cm.sum(axis=1)[:, np.newaxis]\n",
        "\n",
        "  thresh = cm.max() / 2.\n",
        "  for i, j in itertools.product(range(cm.shape[0]), range(cm.shape[1])):\n",
        "  \tplt.text(j, i, cm[i, j], horizontalalignment=\"center\", color=\"white\" if cm[i, j] > thresh else \"black\")\n",
        "\n",
        "  plt.tight_layout()\n",
        "  plt.ylabel('True label')\n",
        "  plt.xlabel('Predicted label')\n",
        "\n",
        "# Predict the values from the validation dataset\n",
        "Y_pred = model2.predict(test_images2)\n",
        "# Convert predictions classes to one hot vectors\n",
        "Y_pred_classes = np.argmax(Y_pred, axis = 1)\n",
        "# Convert validation observations to one hot vectors\n",
        "#Y_true = np.argmax(test_labels, axis = 1)\n",
        "# compute the confusion matrix\n",
        "confusion_mtx = confusion_matrix(test_labels2, Y_pred_classes)\n",
        "# plot the confusion matrix\n",
        "plot_confusion_matrix(confusion_mtx, classes = range(10))\n"
      ],
      "execution_count": null,
      "outputs": []
    }
  ]
}